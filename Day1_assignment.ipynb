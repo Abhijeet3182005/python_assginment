{
 "cells": [
  {
   "cell_type": "code",
   "execution_count": 10,
   "id": "3af35f60-8e3e-4a96-9fd8-3b50c9d8a01f",
   "metadata": {},
   "outputs": [
    {
     "name": "stdin",
     "output_type": "stream",
     "text": [
      "Enter the employ name  sjkdhd\n",
      "Enter the salary of employ =  50000\n"
     ]
    },
    {
     "name": "stdout",
     "output_type": "stream",
     "text": [
      "High salary\n"
     ]
    }
   ],
   "source": [
    "# 1\n",
    "\n",
    "employ_name = input(\"Enter the employ name \")\n",
    "emp_sal = int(input(\"Enter the salary of employ = \"))\n",
    "if emp_sal >= 50000:\n",
    "    print(\"High salary\")\n",
    "elif emp_sal < 50000 and emp_sal >30000:\n",
    "    print(\"medium salary\")\n",
    "else:\n",
    "    print(\"low salary\")"
   ]
  },
  {
   "cell_type": "code",
   "execution_count": 12,
   "id": "960de0ec-24c6-4c22-92fd-6c4307cdbe3d",
   "metadata": {},
   "outputs": [
    {
     "name": "stdin",
     "output_type": "stream",
     "text": [
      "streetlight number for city = 2\n"
     ]
    },
    {
     "name": "stdout",
     "output_type": "stream",
     "text": [
      "light ON\n"
     ]
    }
   ],
   "source": [
    "#2\n",
    "\n",
    "number =  int(input(\"streetlight number for city =\"))\n",
    "if number % 2 == 0:\n",
    "    print(\"light ON\")\n",
    "else:\n",
    "    print(\"light OFF\")"
   ]
  },
  {
   "cell_type": "code",
   "execution_count": 32,
   "id": "c355f859-4b59-487b-a574-3296e648560d",
   "metadata": {
    "scrolled": true
   },
   "outputs": [
    {
     "name": "stdout",
     "output_type": "stream",
     "text": [
      "WELCOME to DKTE bank\n"
     ]
    },
    {
     "name": "stdin",
     "output_type": "stream",
     "text": [
      "\n",
      "Enter your choice of function:\n",
      "1. Check Balance\n",
      "2. Deposit Money\n",
      "3. Withdraw Money\n",
      "4. Exit the System\n",
      "Enter your choice (1-4):  2\n",
      "Enter the deposit amount:  100000000\n"
     ]
    },
    {
     "name": "stdout",
     "output_type": "stream",
     "text": [
      "Money deposited successfully! Current balance is: 100000000\n"
     ]
    },
    {
     "name": "stdin",
     "output_type": "stream",
     "text": [
      "\n",
      "Enter your choice of function:\n",
      "1. Check Balance\n",
      "2. Deposit Money\n",
      "3. Withdraw Money\n",
      "4. Exit the System\n",
      "Enter your choice (1-4):  1\n"
     ]
    },
    {
     "name": "stdout",
     "output_type": "stream",
     "text": [
      "Your current balance is: 100000000\n"
     ]
    },
    {
     "name": "stdin",
     "output_type": "stream",
     "text": [
      "\n",
      "Enter your choice of function:\n",
      "1. Check Balance\n",
      "2. Deposit Money\n",
      "3. Withdraw Money\n",
      "4. Exit the System\n",
      "Enter your choice (1-4):  5\n"
     ]
    },
    {
     "name": "stdout",
     "output_type": "stream",
     "text": [
      "Invalid choice. Please enter a number between 1 and 4.\n"
     ]
    },
    {
     "name": "stdin",
     "output_type": "stream",
     "text": [
      "\n",
      "Enter your choice of function:\n",
      "1. Check Balance\n",
      "2. Deposit Money\n",
      "3. Withdraw Money\n",
      "4. Exit the System\n",
      "Enter your choice (1-4):  4\n"
     ]
    },
    {
     "name": "stdout",
     "output_type": "stream",
     "text": [
      "Thank you for banking with us. Goodbye!\n"
     ]
    }
   ],
   "source": [
    "#3\n",
    "\n",
    "print(\"WELCOME to DKTE bank\")\n",
    "balance = 0\n",
    "\n",
    "while True:\n",
    "    user = input(\"\\nEnter your choice of function:\\n1. Check Balance\\n2. Deposit Money\\n3. Withdraw Money\\n4. Exit the System\\nEnter your choice (1-4): \")\n",
    "\n",
    "    if user == \"1\":\n",
    "        print(\"Your current balance is:\", balance)\n",
    "    \n",
    "    elif user == \"2\":\n",
    "        amount = int(input(\"Enter the deposit amount: \"))\n",
    "        balance += amount\n",
    "        print(\"Money deposited successfully! Current balance is:\", balance)\n",
    "    \n",
    "    elif user == \"3\":\n",
    "        withdraw = int(input(\"Enter the withdrawal amount: \"))\n",
    "        if withdraw <= balance:\n",
    "            balance -= withdraw\n",
    "            print(\"Withdrawal successful! Remaining balance is:\", balance)\n",
    "        else:\n",
    "            print(\"Insufficient balance.\")\n",
    "    \n",
    "    elif user == \"4\":\n",
    "        print(\"Thank you for banking with us. Goodbye!\")\n",
    "        break\n",
    "\n",
    "    else:\n",
    "        print(\"Invalid choice. Please enter a number between 1 and 4.\")\n"
   ]
  },
  {
   "cell_type": "code",
   "execution_count": 38,
   "id": "d4b72758-2dd2-4be4-839e-68e9e190f1fd",
   "metadata": {},
   "outputs": [
    {
     "name": "stdout",
     "output_type": "stream",
     "text": [
      "passenger counting _ City bus\n"
     ]
    },
    {
     "name": "stdin",
     "output_type": "stream",
     "text": [
      "Enter the passsengers in this stop =  5\n",
      "Enter the passsengers in this stop =  6\n",
      "Enter the passsengers in this stop =  3\n",
      "Enter the passsengers in this stop =  2\n",
      "Enter the passsengers in this stop =  1\n"
     ]
    },
    {
     "name": "stdout",
     "output_type": "stream",
     "text": [
      "total passengers is = 17\n"
     ]
    }
   ],
   "source": [
    "#4\n",
    "\n",
    "print(\"passenger counting _ City bus\")\n",
    "\n",
    "total_passenger = 0\n",
    "\n",
    "for stop in range (1,6):\n",
    "    passenger = int(input(\"Enter the passsengers in this stop = \"))\n",
    "    total_passenger += passenger\n",
    "\n",
    "print(f\"total passengers is = {total_passenger}\")"
   ]
  },
  {
   "cell_type": "code",
   "execution_count": null,
   "id": "6642cf00-80ec-4aa2-8918-0741bdbfcb8a",
   "metadata": {},
   "outputs": [],
   "source": []
  },
  {
   "cell_type": "code",
   "execution_count": null,
   "id": "a417a914-c196-4487-9a7e-95bd3d8860c6",
   "metadata": {},
   "outputs": [],
   "source": []
  },
  {
   "cell_type": "code",
   "execution_count": null,
   "id": "e7fcc357-ecd0-4577-acee-da2632a7f11c",
   "metadata": {},
   "outputs": [],
   "source": [
    "#5\n",
    "\n",
    "attempt=3\n",
    "for i in range(1,4):\n",
    "  pin=int(input(\"Enter PIN: \"))\n",
    "  if pin==1234:\n",
    "    attempt -= 1\n",
    "    if attempt == 0:\n",
    "      print(\"Granted\")\n",
    "  else:\n",
    "    print(\"Denied\")\n",
    "    break"
   ]
  },
  {
   "cell_type": "code",
   "execution_count": 60,
   "id": "9c263b07-4a58-4f8c-9e88-fda6d1a71389",
   "metadata": {},
   "outputs": [
    {
     "name": "stdin",
     "output_type": "stream",
     "text": [
      "Enter a number to reverse:  123\n"
     ]
    },
    {
     "name": "stdout",
     "output_type": "stream",
     "text": [
      "Reversed number is: 321\n"
     ]
    }
   ],
   "source": [
    "#6\n",
    "\n",
    "num = input(\"Enter a number to reverse: \")\n",
    "reversed_num = num[::-1]\n",
    "print(\"Reversed number is:\", reversed_num)\n"
   ]
  },
  {
   "cell_type": "code",
   "execution_count": 62,
   "id": "61c13f44-83f5-4e36-8784-477bf6c1db59",
   "metadata": {},
   "outputs": [
    {
     "name": "stdin",
     "output_type": "stream",
     "text": [
      "Enter the amount (must be a multiple of 500):  500\n"
     ]
    },
    {
     "name": "stdout",
     "output_type": "stream",
     "text": [
      "\n",
      "Cash Breakdown:\n",
      "₹2000 notes: 0\n",
      "₹500 notes : 1\n"
     ]
    }
   ],
   "source": [
    "#7\n",
    "\n",
    "amount = int(input(\"Enter the amount (must be a multiple of 500): \"))\n",
    "\n",
    "# Check if the amount is valid\n",
    "if amount % 500 != 0:\n",
    "    print(\"Invalid amount! Please enter a multiple of ₹500.\")\n",
    "else:\n",
    "    notes_2000 = amount // 2000\n",
    "    remaining = amount % 2000\n",
    "\n",
    "    notes_500 = remaining // 500\n",
    "\n",
    "    print(\"\\nCash Breakdown:\")\n",
    "    print(\"₹2000 notes:\", notes_2000)\n",
    "    print(\"₹500 notes :\", notes_500)\n"
   ]
  },
  {
   "cell_type": "code",
   "execution_count": null,
   "id": "c1109002-961d-4024-9cde-b4716af2df46",
   "metadata": {},
   "outputs": [],
   "source": [
    "\n",
    "def check_balance(balance):\n",
    "    print(f\"\\nYour current balance is ₹{balance}\")\n",
    "\n",
    "def deposit(balance):\n",
    "    amount = int(input(\"Enter amount to deposit: ₹\"))\n",
    "    if amount > 0:\n",
    "        balance += amount\n",
    "        print(f\"₹{amount} deposited successfully!\")\n",
    "    else:\n",
    "        print(\"Invalid deposit amount.\")\n",
    "    return balance\n",
    "\n",
    "def withdraw(balance):\n",
    "    amount = int(input(\"Enter amount to withdraw: ₹\"))\n",
    "    if amount <= balance and amount > 0:\n",
    "        balance -= amount\n",
    "        print(f\"₹{amount} withdrawn successfully!\")\n",
    "    elif amount <= 0:\n",
    "        print(\"Invalid withdrawal amount.\")\n",
    "    else:\n",
    "        print(\"Insufficient balance.\")\n",
    "    return balance\n",
    "\n",
    "def atm():\n",
    "    balance = 5000  # Initial balance\n",
    "    while True:\n",
    "        print(\"\\n--- ATM Menu ---\")\n",
    "        print(\"1. Check Balance\")\n",
    "        print(\"2. Deposit Money\")\n",
    "        print(\"3. Withdraw Money\")\n",
    "        print(\"4. Exit\")\n",
    "\n",
    "        choice = input(\"Enter your choice (1-4): \")\n",
    "\n",
    "        if choice == \"1\":\n",
    "            check_balance(balance)\n",
    "        elif choice == \"2\":\n",
    "            balance = deposit(balance)\n",
    "        elif choice == \"3\":\n",
    "            balance = withdraw(balance)\n",
    "        elif choice == \"4\":\n",
    "            print(\"Thank you for using the ATM. Goodbye!\")\n",
    "            break\n",
    "        else:\n",
    "            print(\"Invalid choice. Please try again.\")\n",
    "\n",
    "# Run the ATM system\n",
    "atm()\n"
   ]
  }
 ],
 "metadata": {
  "kernelspec": {
   "display_name": "Python [conda env:base] *",
   "language": "python",
   "name": "conda-base-py"
  },
  "language_info": {
   "codemirror_mode": {
    "name": "ipython",
    "version": 3
   },
   "file_extension": ".py",
   "mimetype": "text/x-python",
   "name": "python",
   "nbconvert_exporter": "python",
   "pygments_lexer": "ipython3",
   "version": "3.12.7"
  }
 },
 "nbformat": 4,
 "nbformat_minor": 5
}
